{
  "nbformat": 4,
  "nbformat_minor": 0,
  "metadata": {
    "colab": {
      "name": "二叉树.ipynb",
      "provenance": [],
      "collapsed_sections": [],
      "toc_visible": true,
      "authorship_tag": "ABX9TyPijiZxYZkm13DcxWhdSjGF",
      "include_colab_link": true
    },
    "kernelspec": {
      "name": "python3",
      "display_name": "Python 3"
    }
  },
  "cells": [
    {
      "cell_type": "markdown",
      "metadata": {
        "id": "view-in-github",
        "colab_type": "text"
      },
      "source": [
        "<a href=\"https://colab.research.google.com/github/dwdb/data-structures-and-algorithms/blob/master/%E4%BA%8C%E5%8F%89%E6%A0%91.ipynb\" target=\"_parent\"><img src=\"https://colab.research.google.com/assets/colab-badge.svg\" alt=\"Open In Colab\"/></a>"
      ]
    },
    {
      "cell_type": "markdown",
      "metadata": {
        "id": "9OmlNYe6G3W-",
        "colab_type": "text"
      },
      "source": [
        "# 公共函数和类\n"
      ]
    },
    {
      "cell_type": "code",
      "metadata": {
        "id": "2UVpgp3NG-7j",
        "colab_type": "code",
        "colab": {
          "base_uri": "https://localhost:8080/",
          "height": 33
        },
        "outputId": "8994f4d3-392a-4e66-e48c-cc69f79d83bd"
      },
      "source": [
        "class BTNode(object):\n",
        "    def __init__(self, value, left=None, right=None, father=None):\n",
        "        self.value = value\n",
        "        self.left = left\n",
        "        self.right = right\n",
        "        self.father = father\n",
        "\n",
        "\n",
        "def array2bt(array, father=False):\n",
        "    \"\"\"数据转为二叉树\"\"\"\n",
        "    if not array:\n",
        "        return None\n",
        "    nodes = []\n",
        "    for v in array:\n",
        "        if v is None:\n",
        "            nodes.append(None)\n",
        "        else:\n",
        "            nodes.append(BTNode(v))\n",
        "    n = len(array)\n",
        "    # 节点编号为0....n-1，则最后一个含有叶节点的节点编号为(n-1)//2\n",
        "    # 编号为i的节点，左右子节点的编号为\n",
        "    for i in range(n):\n",
        "        node = nodes[i]\n",
        "        if node is None:\n",
        "            continue\n",
        "        i1, i2 = 2 * i + 1, 2 * i + 2\n",
        "        if i1 < n:\n",
        "            node.left = nodes[i1]\n",
        "        if i2 < n:\n",
        "            node.right = nodes[i2]\n",
        "        if father and node.left:\n",
        "            node.left.father = node\n",
        "        if father and node.right:\n",
        "            node.right.father = node\n",
        "    return nodes[0]\n",
        "\n",
        "\n",
        "def pos_order(root, values=None):\n",
        "    \"\"\"后序遍历\"\"\"\n",
        "    if values is None:\n",
        "        values = []\n",
        "    if root is not None:\n",
        "        pos_order(root.left, values)\n",
        "        pos_order(root.right, values)\n",
        "        values.append(root.value)\n",
        "    return values\n",
        "\n",
        "\n",
        "array = [1,2,3,4,5]\n",
        "tree = array2bt(array)\n",
        "pos_order(tree)"
      ],
      "execution_count": 9,
      "outputs": [
        {
          "output_type": "execute_result",
          "data": {
            "text/plain": [
              "[4, 5, 2, 3, 1]"
            ]
          },
          "metadata": {
            "tags": []
          },
          "execution_count": 9
        }
      ]
    },
    {
      "cell_type": "markdown",
      "metadata": {
        "id": "Pz4273zITvjO",
        "colab_type": "text"
      },
      "source": [
        "# 查找特定值的节点\n",
        "\n",
        "给定一棵二叉树，二叉树中节点元素不重复，返回二叉树节点值为给定值的节点\n"
      ]
    },
    {
      "cell_type": "code",
      "metadata": {
        "id": "2QLwvk7DUCHw",
        "colab_type": "code",
        "colab": {
          "base_uri": "https://localhost:8080/",
          "height": 33
        },
        "outputId": "ef7a8e34-0dfd-4c41-cadc-e5c44d3ed569"
      },
      "source": [
        "def find_node(tree, value):\n",
        "    if tree is None:\n",
        "        return None\n",
        "    if tree.value == value:\n",
        "        return tree\n",
        "    node = find_node(tree.left, value)\n",
        "    if node is None:\n",
        "        node = find_node(tree.right, value)\n",
        "    return node\n",
        "\n",
        "\n",
        "array = [1,2,3,4,5]\n",
        "tree = array2bt(array)\n",
        "find_node(tree, 5).value"
      ],
      "execution_count": 21,
      "outputs": [
        {
          "output_type": "execute_result",
          "data": {
            "text/plain": [
              "5"
            ]
          },
          "metadata": {
            "tags": []
          },
          "execution_count": 21
        }
      ]
    },
    {
      "cell_type": "markdown",
      "metadata": {
        "id": "PZEYELHgHBul",
        "colab_type": "text"
      },
      "source": [
        "# 中序遍历的下一个节点\n",
        "\n",
        "给定一个二叉树和其中的一个结点，请找出中序遍历顺序的下一个结点并且返回。注意，树中的结点不仅包含左右子结点，同时包含指向父结点的指针。\n",
        "\n",
        "解题思路：分几下几种情况讨论：\n",
        "1. 给定节点右子树非空，返回右子树最左节点；\n",
        "2. 给定节点右子树为空，不存在父节点，None；\n",
        "3. 给定节点右子树为空，为父节点左分支，返回父节点；\n",
        "4. 给定节点右子树为空，为父节点右分支，沿着父节点指针向上遍历，直到找到作为左子树的节点；"
      ]
    },
    {
      "cell_type": "code",
      "metadata": {
        "id": "OJ6gwGx6J9Zl",
        "colab_type": "code",
        "colab": {
          "base_uri": "https://localhost:8080/",
          "height": 35
        },
        "outputId": "ca42a5ac-4528-4b9d-c2fe-317385019166"
      },
      "source": [
        "def find_next_node(node):\n",
        "    if node is None:\n",
        "        return None\n",
        "    # 存在右子树\n",
        "    if node.right:\n",
        "        node = node.right\n",
        "        while node.left:\n",
        "            node = node.left\n",
        "        return node.value\n",
        "    # 不存在右子树，且不存在父节点\n",
        "    if node.father is None:\n",
        "        return None\n",
        "    # 不存在右子树，为父节点左分支\n",
        "    if node.right is None and node == node.father.left:\n",
        "        return node.father.value\n",
        "    # 不存在右子树，为父节点右分支\n",
        "    while node:\n",
        "        if node.father is None:\n",
        "            return None\n",
        "        if node.father.left == node:\n",
        "            return node.father.value\n",
        "        node = node.father\n",
        "    \n",
        "    \n",
        "# 中序遍历d,b,h,e,i,a,f,c,g\n",
        "array = ['a', 'b', 'c', 'd', 'e', 'f', 'g', None, None, 'h', 'i']\n",
        "tree = array2bt(array)\n",
        "find_next_node(find_node(tree, 'c'))"
      ],
      "execution_count": 35,
      "outputs": [
        {
          "output_type": "execute_result",
          "data": {
            "application/vnd.google.colaboratory.intrinsic": {
              "type": "string"
            },
            "text/plain": [
              "'g'"
            ]
          },
          "metadata": {
            "tags": []
          },
          "execution_count": 35
        }
      ]
    },
    {
      "cell_type": "markdown",
      "metadata": {
        "id": "96jNG94BSRl1",
        "colab_type": "text"
      },
      "source": [
        "# 二叉树镜像化\n",
        "\n",
        "操作给定的二叉树，将其变换为源二叉树的镜像。\n",
        "```\n",
        "二叉树的镜像定义：源二叉树 \n",
        "    \t    8\n",
        "    \t   /  \\\n",
        "    \t  6   10\n",
        "    \t / \\  / \\\n",
        "    \t5  7 9 11\n",
        "    \t镜像二叉树\n",
        "    \t    8\n",
        "    \t   /  \\\n",
        "    \t  10   6\n",
        "    \t / \\  / \\\n",
        "    \t11 9 7  5\n",
        "```"
      ]
    },
    {
      "cell_type": "code",
      "metadata": {
        "id": "Nov1ffPiWIQz",
        "colab_type": "code",
        "colab": {}
      },
      "source": [
        "def mirror(tree):\n",
        "    if tree is None:\n",
        "        return\n",
        "    tree.left, tree.right = tree.right, tree.left\n",
        "    mirror(tree.left)\n",
        "    mirrir(tree.right)\n",
        "    return tree"
      ],
      "execution_count": null,
      "outputs": []
    },
    {
      "cell_type": "markdown",
      "metadata": {
        "id": "YBZmZdnQXAdX",
        "colab_type": "text"
      },
      "source": [
        "# 从上到下打印二叉树（层次遍历）"
      ]
    },
    {
      "cell_type": "code",
      "metadata": {
        "id": "6T1F3JW3XHaV",
        "colab_type": "code",
        "colab": {
          "base_uri": "https://localhost:8080/",
          "height": 100
        },
        "outputId": "fad67f2d-6a0c-4e5d-94e8-286ea6a5edf1"
      },
      "source": [
        "def traversal(root):\n",
        "    if root is None:\n",
        "        return\n",
        "    queue = [root]\n",
        "    while queue:\n",
        "        node = queue.pop(0)\n",
        "        print(node.value)\n",
        "        if node.left:\n",
        "            queue.append(node.left)\n",
        "        if node.right:\n",
        "            queue.append(node.right)\n",
        "\n",
        "array = [1,2,3,4,5]\n",
        "root = array2bt(array)\n",
        "traversal(root)"
      ],
      "execution_count": 39,
      "outputs": [
        {
          "output_type": "stream",
          "text": [
            "1\n",
            "2\n",
            "3\n",
            "4\n",
            "5\n"
          ],
          "name": "stdout"
        }
      ]
    },
    {
      "cell_type": "markdown",
      "metadata": {
        "id": "ii9w-E07X3HX",
        "colab_type": "text"
      },
      "source": [
        "# 后序遍历序列\n",
        "输入一个整数数组，判断该数组是不是某二叉搜索树的后序遍历的结果。如果是则输出Yes,否则输出No。假设输入的数组的任意两个数字都互不相同。\n",
        "\n",
        "解题思路：中序遍历序列的最后一个节点值是根节点值，比较序列头元素连续小于根节点的元素都是左子树节点，其它为右子树节点，若右子树节点中含小于根节点的元素，则形不成二叉搜索树。"
      ]
    },
    {
      "cell_type": "code",
      "metadata": {
        "id": "JFdtgPCCahbB",
        "colab_type": "code",
        "colab": {
          "base_uri": "https://localhost:8080/",
          "height": 50
        },
        "outputId": "7b50b933-6eca-44df-c2a9-5398acd4440d"
      },
      "source": [
        "def is_bst_pos_sequence(sequence, start=0, end=None):\n",
        "    if not sequence:\n",
        "        return False\n",
        "    if end is None:\n",
        "        end = len(sequence) - 1\n",
        "    if start >= end:\n",
        "        return True\n",
        "    root_value = sequence[end]\n",
        "    # 左子树保存小于等于根节点的元素\n",
        "    k = 0\n",
        "    while start + k < end and sequence[start + k] <= root_value:\n",
        "        k += 1\n",
        "    for i in range(start + k, end - 1):\n",
        "        if sequence[i] <= root_value:\n",
        "            return False\n",
        "    is_bst_l = is_bst_pos_sequence(sequence, start, start + k - 1)\n",
        "    is_bst_r = is_bst_pos_sequence(sequence, start + k, end - 1)\n",
        "    return is_bst_l and  is_bst_r\n",
        "\n",
        "\n",
        "print(is_bst_pos_sequence([5,7,6,9,11,10,8]))\n",
        "print(is_bst_pos_sequence([7,4,6,5]))"
      ],
      "execution_count": 50,
      "outputs": [
        {
          "output_type": "stream",
          "text": [
            "True\n",
            "False\n"
          ],
          "name": "stdout"
        }
      ]
    },
    {
      "cell_type": "markdown",
      "metadata": {
        "id": "a3Lfml27cXbQ",
        "colab_type": "text"
      },
      "source": [
        "# 深度和平衡性\n",
        "\n",
        "输入一棵二叉树，判断该二叉树是否是平衡二叉树。"
      ]
    },
    {
      "cell_type": "code",
      "metadata": {
        "id": "8ysj4JDJegp_",
        "colab_type": "code",
        "colab": {
          "base_uri": "https://localhost:8080/",
          "height": 33
        },
        "outputId": "6167fef3-1569-4c6e-b9f4-0becd55f066b"
      },
      "source": [
        "def depth(root):\n",
        "    if root is None:\n",
        "        return 0\n",
        "    return max(depth(root.left), depth(root.right)) + 1"
      ],
      "execution_count": 54,
      "outputs": [
        {
          "output_type": "execute_result",
          "data": {
            "text/plain": [
              "4"
            ]
          },
          "metadata": {
            "tags": []
          },
          "execution_count": 54
        }
      ]
    },
    {
      "cell_type": "code",
      "metadata": {
        "id": "L8QG6JQ3nggR",
        "colab_type": "code",
        "colab": {
          "base_uri": "https://localhost:8080/",
          "height": 50
        },
        "outputId": "ce2ac819-7aa3-4395-91b2-eca0a8dd893b"
      },
      "source": [
        "def balanced(root):\n",
        "    if root is None:\n",
        "        return True\n",
        "    dep1 = depth(root.left)\n",
        "    dep2 = depth(root.right)\n",
        "    if dep1 - dep2 > 1 or dep2 - dep1 > 1:\n",
        "        return False\n",
        "    return balanced(root.left) and balanced(root.right)\n",
        "\n",
        "\n",
        "def balanced_pos_order(root):\n",
        "    if root is None:\n",
        "        return 0\n",
        "    dep1 = balanced_pos_order(root.left)\n",
        "    dep2 = balanced_pos_order(root.right)\n",
        "    if dep1 == -1 or dep2 == -1 or dep1 - dep2 > 1 or dep2 - dep1 > 1:\n",
        "        return -1\n",
        "    return max(dep1, dep2) + 1\n",
        "\n",
        "\n",
        "\n",
        "array1 = [1,2,3,4,5,6,7,8]\n",
        "root1 = array2bt(array1)\n",
        "print(balanced_pos_order(root1))\n",
        "\n",
        "array2 = [1,2,3,4,5,None,None,None,None,6]\n",
        "root2 = array2bt(array2)\n",
        "print(balanced_pos_order(root2))"
      ],
      "execution_count": 65,
      "outputs": [
        {
          "output_type": "stream",
          "text": [
            "4\n",
            "-1\n"
          ],
          "name": "stdout"
        }
      ]
    },
    {
      "cell_type": "markdown",
      "metadata": {
        "id": "bpZISw2uoSbF",
        "colab_type": "text"
      },
      "source": [
        "# 和为某一值的路径"
      ]
    },
    {
      "cell_type": "code",
      "metadata": {
        "id": "VuT1rcKJrYxi",
        "colab_type": "code",
        "colab": {
          "base_uri": "https://localhost:8080/",
          "height": 33
        },
        "outputId": "37a4ce18-58ea-4df5-b6cc-b1bcb65dd5a9"
      },
      "source": [
        "def path_sum(root, exp_num, sum_num=None, path=None, paths=None):\n",
        "    if path is None:\n",
        "        path = []\n",
        "    if paths is None:\n",
        "        paths = []\n",
        "    if sum_num is None:\n",
        "        sum_num = [0]\n",
        "    if root is None:\n",
        "        return paths\n",
        "\n",
        "    sum_num[0] += root.value\n",
        "    path.append(root.value)\n",
        "\n",
        "    if root.left is None and root.right is None:\n",
        "        if sum_num[0] == exp_num:\n",
        "            paths.append(path.copy())\n",
        "\n",
        "    path_sum(root.left, exp_num, sum_num, path, paths)\n",
        "    path_sum(root.right, exp_num, sum_num, path, paths)\n",
        "\n",
        "    path.pop(-1)\n",
        "    sum_num[0] -= root.value\n",
        "    return paths\n",
        "\n",
        "\n",
        "array = [10,5,12,4,7]\n",
        "root = array2bt(array)\n",
        "path_sum(root, 22)"
      ],
      "execution_count": 81,
      "outputs": [
        {
          "output_type": "execute_result",
          "data": {
            "text/plain": [
              "[[10, 5, 7], [10, 12]]"
            ]
          },
          "metadata": {
            "tags": []
          },
          "execution_count": 81
        }
      ]
    }
  ]
}