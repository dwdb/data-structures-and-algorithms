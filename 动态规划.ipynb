{
  "nbformat": 4,
  "nbformat_minor": 0,
  "metadata": {
    "colab": {
      "name": "动态规划.ipynb",
      "provenance": [],
      "collapsed_sections": [],
      "toc_visible": true,
      "authorship_tag": "ABX9TyO9VNQKoAqHjCNWzA8nT9yL",
      "include_colab_link": true
    },
    "kernelspec": {
      "name": "python3",
      "display_name": "Python 3"
    }
  },
  "cells": [
    {
      "cell_type": "markdown",
      "metadata": {
        "id": "view-in-github",
        "colab_type": "text"
      },
      "source": [
        "<a href=\"https://colab.research.google.com/github/dwdb/data-structures-and-algorithms/blob/master/%E5%8A%A8%E6%80%81%E8%A7%84%E5%88%92.ipynb\" target=\"_parent\"><img src=\"https://colab.research.google.com/assets/colab-badge.svg\" alt=\"Open In Colab\"/></a>"
      ]
    },
    {
      "cell_type": "markdown",
      "metadata": {
        "id": "q0dJrtXj-UEN",
        "colab_type": "text"
      },
      "source": [
        "# 编辑距离"
      ]
    },
    {
      "cell_type": "code",
      "metadata": {
        "id": "GWJ64vSM-QXw",
        "colab_type": "code",
        "colab": {}
      },
      "source": [
        "def edit_distance(str1, str2):\n",
        "    \"\"\"\n",
        "    编辑距离\n",
        "    \"\"\"\n",
        "    if not str1:\n",
        "        return len(str2)\n",
        "    if not str2:\n",
        "        return len(str1)\n",
        "    flag = int(str1[0] != str2[0])\n",
        "    dis1 = edit_distance(str1[1:], str2) + 1\n",
        "    dis2 = edit_distance(str1, str2[1:]) + 1\n",
        "    dis3 = edit_distance(str1[1:], str2[1:]) + flag\n",
        "    return min(dis1, dis2, dis3)\n",
        "\n",
        "\n",
        "print(edit_distance('batyu', 'beauty'))\n",
        "print(edit_distance('batyu', 'beauty'))\n",
        "\n",
        "\n",
        "def edit_distance2(str1, str2):\n",
        "    \"\"\"\n",
        "        b   e   a   u   t   y\n",
        "    b   0   1   2   3   4   5\n",
        "    a   1   1   1   2   3   4\n",
        "    t   2   2   2   2   2   3\n",
        "    y   3   3   3   3   3   2\n",
        "    u   4   4   4   3   4   3\n",
        "    \"\"\"\n",
        "    dp = [[0] * len(str1) for _ in range(len(str2))]\n",
        "    # 按行遍历\n",
        "    for i in range(len(str2)):\n",
        "        # 按列遍历\n",
        "        for j in range(len(str1)):\n",
        "            k = int(str2[i] != str1[j])\n",
        "            if i == 0:\n",
        "                if j == 0:\n",
        "                    dp[i][j] = k\n",
        "                else:\n",
        "                    dp[i][j] = dp[i][j - 1] + k\n",
        "            else:\n",
        "                if j == 0:\n",
        "                    dp[i][j] = dp[i - 1][j] + k\n",
        "                else:\n",
        "                    dp[i][j] = min(dp[i - 1][j - 1], dp[i - 1][j], dp[i][j - 1]) + k\n",
        "\n",
        "    return dp[-1][-1]\n",
        "\n",
        "\n",
        "print(edit_distance2('batyu', 'beaut'))"
      ],
      "execution_count": null,
      "outputs": []
    },
    {
      "cell_type": "markdown",
      "metadata": {
        "id": "nVTaPLWV-b6y",
        "colab_type": "text"
      },
      "source": [
        "# 最长上升子序列\n",
        "问题描述：求一个序列的最长上升子序列，如[10,9,2,5,3,7,101,18]的最长上升子序列是[2,3,7,101]，长度为4。\n"
      ]
    },
    {
      "cell_type": "code",
      "metadata": {
        "id": "2olFBnZc-a3l",
        "colab_type": "code",
        "colab": {}
      },
      "source": [
        "# Longest Increasing Subsequence\n",
        "def lis_dp(array):\n",
        "    \"\"\"\n",
        "    动态规划求解最长上升子序列，时间复杂度O(N^2)，空间复杂度O(N)\n",
        "    \"\"\"\n",
        "    dp = [1] * len(array)\n",
        "    for i in range(len(array)):\n",
        "        max_len = 0\n",
        "        for j in range(i):\n",
        "            if array[i] > array[j] and dp[j] > max_len:\n",
        "                max_len = dp[j]\n",
        "        dp[i] += max_len\n",
        "    return max(dp)\n",
        "\n",
        "\n",
        "array = [1, 2, 3, 1]\n",
        "print(lis_dp(array))"
      ],
      "execution_count": null,
      "outputs": []
    }
  ]
}